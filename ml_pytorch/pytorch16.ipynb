{
  "nbformat": 4,
  "nbformat_minor": 0,
  "metadata": {
    "colab": {
      "provenance": [],
      "gpuType": "T4"
    },
    "kernelspec": {
      "name": "python3",
      "display_name": "Python 3"
    },
    "language_info": {
      "name": "python"
    },
    "accelerator": "GPU"
  },
  "cells": [
    {
      "cell_type": "markdown",
      "source": [
        "# **16.2 셀프 어텐션 메커니즘 소개**\n",
        "**16.2.1 기본적인 형태의 셀프 어텐션**"
      ],
      "metadata": {
        "id": "45uOc21CL1_w"
      }
    },
    {
      "cell_type": "code",
      "execution_count": 1,
      "metadata": {
        "id": "hF5JHO_D6ddq"
      },
      "outputs": [],
      "source": [
        "import torch"
      ]
    },
    {
      "cell_type": "code",
      "source": [
        "sentence = torch.tensor([0, # can\n",
        "                         7, # you\n",
        "                         1, # help\n",
        "                         2, # me\n",
        "                         5, # to\n",
        "                         6, # translate\n",
        "                         4, # this\n",
        "                         3] # sentence\n",
        "                        )\n",
        "sentence"
      ],
      "metadata": {
        "colab": {
          "base_uri": "https://localhost:8080/"
        },
        "id": "gjq-9ReS6lQH",
        "outputId": "ee774931-d9c6-449b-ac8f-678ad2a1a979"
      },
      "execution_count": 2,
      "outputs": [
        {
          "output_type": "execute_result",
          "data": {
            "text/plain": [
              "tensor([0, 7, 1, 2, 5, 6, 4, 3])"
            ]
          },
          "metadata": {},
          "execution_count": 2
        }
      ]
    },
    {
      "cell_type": "code",
      "source": [
        "torch.manual_seed(123)\n",
        "embed = torch.nn.Embedding(10,16)\n",
        "embedded_sentence = embed(sentence).detach()"
      ],
      "metadata": {
        "id": "lnwerAJ062im"
      },
      "execution_count": 3,
      "outputs": []
    },
    {
      "cell_type": "code",
      "source": [
        "embedded_sentence.shape"
      ],
      "metadata": {
        "colab": {
          "base_uri": "https://localhost:8080/"
        },
        "id": "UvBxGcjV7AW2",
        "outputId": "89cb6f8d-c8e7-42d7-e2b4-0cabde4d702b"
      },
      "execution_count": 4,
      "outputs": [
        {
          "output_type": "execute_result",
          "data": {
            "text/plain": [
              "torch.Size([8, 16])"
            ]
          },
          "metadata": {},
          "execution_count": 4
        }
      ]
    },
    {
      "cell_type": "code",
      "source": [
        "omega = torch. empty(8,8)\n",
        "for i, x_i in enumerate(embedded_sentence):\n",
        "    for j, x_j in enumerate(embedded_sentence):\n",
        "        omega[i,j] = torch.dot(x_i, x_j)"
      ],
      "metadata": {
        "id": "JMmTJGdH7D5T"
      },
      "execution_count": 5,
      "outputs": []
    },
    {
      "cell_type": "code",
      "source": [
        "omega_mat = embedded_sentence.matmul(embedded_sentence.T)"
      ],
      "metadata": {
        "id": "jKQCRWWV7orK"
      },
      "execution_count": 6,
      "outputs": []
    },
    {
      "cell_type": "code",
      "source": [
        "torch.allclose(omega_mat, omega)"
      ],
      "metadata": {
        "colab": {
          "base_uri": "https://localhost:8080/"
        },
        "id": "R9dpiM1c7yW2",
        "outputId": "6a592d42-1763-40e6-af0b-8b31579faf61"
      },
      "execution_count": 7,
      "outputs": [
        {
          "output_type": "execute_result",
          "data": {
            "text/plain": [
              "True"
            ]
          },
          "metadata": {},
          "execution_count": 7
        }
      ]
    },
    {
      "cell_type": "code",
      "source": [
        "import torch.nn.functional as F\n",
        "attention_weights = F.softmax(omega, dim=1)\n",
        "attention_weights.shape"
      ],
      "metadata": {
        "colab": {
          "base_uri": "https://localhost:8080/"
        },
        "id": "SjZC1OW971O-",
        "outputId": "0e94bbad-3942-47b4-8230-1f528cdd88fc"
      },
      "execution_count": 8,
      "outputs": [
        {
          "output_type": "execute_result",
          "data": {
            "text/plain": [
              "torch.Size([8, 8])"
            ]
          },
          "metadata": {},
          "execution_count": 8
        }
      ]
    },
    {
      "cell_type": "code",
      "source": [
        "attention_weights.sum(dim=1)"
      ],
      "metadata": {
        "colab": {
          "base_uri": "https://localhost:8080/"
        },
        "id": "UDmSdis58QEs",
        "outputId": "34d5de2b-7b39-4425-c45e-39e816e9ec5a"
      },
      "execution_count": 9,
      "outputs": [
        {
          "output_type": "execute_result",
          "data": {
            "text/plain": [
              "tensor([1.0000, 1.0000, 1.0000, 1.0000, 1.0000, 1.0000, 1.0000, 1.0000])"
            ]
          },
          "metadata": {},
          "execution_count": 9
        }
      ]
    },
    {
      "cell_type": "code",
      "source": [
        "x_2=embedded_sentence[1,:]\n",
        "context_vec_2 = torch.zeros(x_2.shape)\n",
        "for j in range(embedded_sentence.shape[0]):\n",
        "  x_j = embedded_sentence[j,:]\n",
        "  context_vec_2 +=attention_weights[1,j]*x_j\n",
        "context_vec_2"
      ],
      "metadata": {
        "colab": {
          "base_uri": "https://localhost:8080/"
        },
        "id": "932xrAYxCi3l",
        "outputId": "008a7119-5523-4ff0-e4ef-3c3a10172b0d"
      },
      "execution_count": 10,
      "outputs": [
        {
          "output_type": "execute_result",
          "data": {
            "text/plain": [
              "tensor([-9.3975e-01, -4.6856e-01,  1.0311e+00, -2.8192e-01,  4.9373e-01,\n",
              "        -1.2896e-02, -2.7327e-01, -7.6358e-01,  1.3958e+00, -9.9543e-01,\n",
              "        -7.1287e-04,  1.2449e+00, -7.8077e-02,  1.2765e+00, -1.4589e+00,\n",
              "        -2.1601e+00])"
            ]
          },
          "metadata": {},
          "execution_count": 10
        }
      ]
    },
    {
      "cell_type": "code",
      "source": [
        "context_vectors = torch.matmul(attention_weights, embedded_sentence)\n",
        "context_vectors.shape"
      ],
      "metadata": {
        "colab": {
          "base_uri": "https://localhost:8080/"
        },
        "id": "5HCUiAxVCi7Z",
        "outputId": "0a5d1b62-e61a-4017-f4d6-ceb7b21b309a"
      },
      "execution_count": 11,
      "outputs": [
        {
          "output_type": "execute_result",
          "data": {
            "text/plain": [
              "torch.Size([8, 16])"
            ]
          },
          "metadata": {},
          "execution_count": 11
        }
      ]
    },
    {
      "cell_type": "code",
      "source": [
        "torch.allclose(context_vectors, context_vectors)"
      ],
      "metadata": {
        "colab": {
          "base_uri": "https://localhost:8080/"
        },
        "id": "Dj7X6D5yCi9y",
        "outputId": "efffd516-0851-46fc-dbe8-b1d3987b68ca"
      },
      "execution_count": 12,
      "outputs": [
        {
          "output_type": "execute_result",
          "data": {
            "text/plain": [
              "True"
            ]
          },
          "metadata": {},
          "execution_count": 12
        }
      ]
    },
    {
      "cell_type": "code",
      "source": [],
      "metadata": {
        "id": "_ijfoCNwCjAW"
      },
      "execution_count": 12,
      "outputs": []
    },
    {
      "cell_type": "code",
      "source": [
        "# import numpy as np\n",
        "\n",
        "# # 입력 시퀀스 (4개 토큰, 각 차원 3)\n",
        "# X = np.array([\n",
        "#     [1, 0, 1],   # x1\n",
        "#     [0, 1, 1],   # x2\n",
        "#     [1, 1, 0],   # x3\n",
        "#     [0, 0, 1]    # x4\n",
        "# ], dtype=float)\n",
        "\n",
        "# def softmax(v):\n",
        "#     e = np.exp(v - np.max(v))  # 안정적 softmax\n",
        "#     return e / e.sum()\n",
        "\n",
        "# i = 0  # x1에 대해 attention 계산해보자\n",
        "\n",
        "# # 1. 점수 계산 (x1^T * xj for all j)\n",
        "# scores = np.dot(X, X[i])   # (4,)\n",
        "# print(\"점수:\", scores)\n",
        "\n",
        "# # 2. softmax 정규화\n",
        "# attn_weights = softmax(scores)  # (4,)\n",
        "# print(\"어텐션 가중치:\", attn_weights)\n",
        "\n",
        "# # 3. 가중합\n",
        "# Z_i = np.sum(attn_weights[:, None] * X, axis=0)\n",
        "# print(\"최종 Z(1):\", Z_i)\n",
        "\n",
        "# print(\"원래 X(1):\", X[i])"
      ],
      "metadata": {
        "id": "XiXQXS4O81Ut"
      },
      "execution_count": 13,
      "outputs": []
    },
    {
      "cell_type": "code",
      "source": [],
      "metadata": {
        "id": "4k2eqbxa_rKU"
      },
      "execution_count": 13,
      "outputs": []
    },
    {
      "cell_type": "markdown",
      "source": [
        "**16.2.2 훈련 가능한 셀프 어텐션 메커니즘: 스케일드 점곱 어텐션**"
      ],
      "metadata": {
        "id": "KJa-lsdjMGdP"
      }
    },
    {
      "cell_type": "code",
      "source": [
        "torch.manual_seed(123)\n",
        "d = embedded_sentence.shape[1]\n",
        "U_query = torch.rand(d,d)\n",
        "U_key = torch.rand(d,d)\n",
        "U_value = torch.rand(d,d)\n",
        "embedded_sentence[1]"
      ],
      "metadata": {
        "colab": {
          "base_uri": "https://localhost:8080/"
        },
        "id": "RPTtxOakFu6T",
        "outputId": "ad4aa050-4952-4340-c305-b1dd2f8667e9"
      },
      "execution_count": 32,
      "outputs": [
        {
          "output_type": "execute_result",
          "data": {
            "text/plain": [
              "tensor([-9.4053e-01, -4.6806e-01,  1.0322e+00, -2.8300e-01,  4.9275e-01,\n",
              "        -1.4078e-02, -2.7466e-01, -7.6409e-01,  1.3966e+00, -9.9491e-01,\n",
              "        -1.5822e-03,  1.2471e+00, -7.7105e-02,  1.2774e+00, -1.4596e+00,\n",
              "        -2.1595e+00])"
            ]
          },
          "metadata": {},
          "execution_count": 32
        }
      ]
    },
    {
      "cell_type": "code",
      "source": [
        "embedded_sentencex_2 = embedded_sentence[1]\n",
        "query_2 = U_query.matmul(x_2)"
      ],
      "metadata": {
        "id": "3m9-0bnAF5lI"
      },
      "execution_count": 33,
      "outputs": []
    },
    {
      "cell_type": "code",
      "source": [
        "print(embedded_sentence.shape)\n",
        "print(x_2.shape)\n",
        "print(U_query.shape)\n",
        "print(query_2.shape)"
      ],
      "metadata": {
        "colab": {
          "base_uri": "https://localhost:8080/"
        },
        "id": "OcqmdIAyGLhB",
        "outputId": "765608d5-4c92-4eb6-831e-f570d0a5ad25"
      },
      "execution_count": 34,
      "outputs": [
        {
          "output_type": "stream",
          "name": "stdout",
          "text": [
            "torch.Size([8, 16])\n",
            "torch.Size([16])\n",
            "torch.Size([16, 16])\n",
            "torch.Size([16])\n"
          ]
        }
      ]
    },
    {
      "cell_type": "code",
      "source": [
        "key_2 = U_key.matmul(x_2)\n",
        "value_2 = U_value.matmul(x_2)"
      ],
      "metadata": {
        "id": "rDkJxwFBGQd1"
      },
      "execution_count": 35,
      "outputs": []
    },
    {
      "cell_type": "code",
      "source": [
        "keys = U_key.matmul(embedded_sentence.T).T\n",
        "values = U_value.matmul(embedded_sentence.T).T"
      ],
      "metadata": {
        "id": "xkkLwTi0Iaq1"
      },
      "execution_count": 36,
      "outputs": []
    },
    {
      "cell_type": "code",
      "source": [
        "torch.allclose(key_2, keys[1])\n",
        "torch.allclose(value_2, values[1])"
      ],
      "metadata": {
        "colab": {
          "base_uri": "https://localhost:8080/"
        },
        "id": "5-Ts0tf2KlBE",
        "outputId": "b44fc496-b415-45b4-e2b9-388b37381b36"
      },
      "execution_count": 37,
      "outputs": [
        {
          "output_type": "execute_result",
          "data": {
            "text/plain": [
              "True"
            ]
          },
          "metadata": {},
          "execution_count": 37
        }
      ]
    },
    {
      "cell_type": "code",
      "source": [
        "omega_23 = query_2.dot(keys[2])\n",
        "omega_23"
      ],
      "metadata": {
        "colab": {
          "base_uri": "https://localhost:8080/"
        },
        "id": "ulf5vs4jKzcn",
        "outputId": "3e4deb96-f83f-4e51-87f9-55899b3ae772"
      },
      "execution_count": 38,
      "outputs": [
        {
          "output_type": "execute_result",
          "data": {
            "text/plain": [
              "tensor(14.3667)"
            ]
          },
          "metadata": {},
          "execution_count": 38
        }
      ]
    },
    {
      "cell_type": "code",
      "source": [
        "omega_23 = query_2.dot(keys[2].T)\n",
        "omega_23"
      ],
      "metadata": {
        "colab": {
          "base_uri": "https://localhost:8080/"
        },
        "id": "m0D2M0a0LkcG",
        "outputId": "92b529de-2b39-45af-f9a0-138bad6c4ee3"
      },
      "execution_count": 39,
      "outputs": [
        {
          "output_type": "execute_result",
          "data": {
            "text/plain": [
              "tensor(14.3667)"
            ]
          },
          "metadata": {},
          "execution_count": 39
        }
      ]
    },
    {
      "cell_type": "code",
      "source": [
        "omega_2 = query_2.matmul(keys.T)\n",
        "omega_2"
      ],
      "metadata": {
        "colab": {
          "base_uri": "https://localhost:8080/"
        },
        "id": "MmDpSbqMLbTY",
        "outputId": "6ac3b88b-2602-4c4c-e501-a5d9117913e0"
      },
      "execution_count": 40,
      "outputs": [
        {
          "output_type": "execute_result",
          "data": {
            "text/plain": [
              "tensor([-25.1623,   9.3602,  14.3667,  32.1482,  53.8976,  46.6626,  -1.2131,\n",
              "        -32.9392])"
            ]
          },
          "metadata": {},
          "execution_count": 40
        }
      ]
    },
    {
      "cell_type": "code",
      "source": [
        "attention_weights_2=F.softmax(omega_2/d**0.5, dim=0)\n",
        "attention_weights_2"
      ],
      "metadata": {
        "colab": {
          "base_uri": "https://localhost:8080/"
        },
        "id": "WADMfT68MzvX",
        "outputId": "812839d4-a17b-4b2b-fb9e-35788bba610d"
      },
      "execution_count": 41,
      "outputs": [
        {
          "output_type": "execute_result",
          "data": {
            "text/plain": [
              "tensor([2.2317e-09, 1.2499e-05, 4.3696e-05, 3.7242e-03, 8.5596e-01, 1.4026e-01,\n",
              "        8.8897e-07, 3.1935e-10])"
            ]
          },
          "metadata": {},
          "execution_count": 41
        }
      ]
    },
    {
      "cell_type": "code",
      "source": [
        "context_vector_2 = attention_weights_2.matmul(values)\n",
        "context_vector_2"
      ],
      "metadata": {
        "colab": {
          "base_uri": "https://localhost:8080/"
        },
        "id": "voEIspnnNwGL",
        "outputId": "b502a416-29c1-4a41-9d52-5c21bb82e0b3"
      },
      "execution_count": 42,
      "outputs": [
        {
          "output_type": "execute_result",
          "data": {
            "text/plain": [
              "tensor([-1.2226, -3.4387, -4.3928, -5.2125, -1.1249, -3.3041, -1.4316, -3.2765,\n",
              "        -2.5114, -2.6105, -1.5793, -2.8433, -2.4142, -0.3998, -1.9917, -3.3499])"
            ]
          },
          "metadata": {},
          "execution_count": 42
        }
      ]
    },
    {
      "cell_type": "markdown",
      "source": [
        "**16.3.1 멀티 헤드 어텐션으로 문맥 임베딩 인코딩하기**"
      ],
      "metadata": {
        "id": "OcTBEAz0Q5ew"
      }
    },
    {
      "cell_type": "code",
      "source": [
        "torch.manual_seed(123)\n",
        "d = embedded_sentence.shape[1]\n",
        "dk = 32\n",
        "dv = 64\n",
        "one_U_query = torch.rand(dk,d)"
      ],
      "metadata": {
        "id": "wSJAjl4TRDrT"
      },
      "execution_count": 45,
      "outputs": []
    },
    {
      "cell_type": "code",
      "source": [
        "h = 8\n",
        "multihead_U_query = torch.rand(h,dk, d)\n",
        "multihead_U_key = torch.rand(h,dk, d)\n",
        "multihead_U_value = torch.rand(h,dv, d)"
      ],
      "metadata": {
        "id": "jPM6ip9aRbH4"
      },
      "execution_count": 46,
      "outputs": []
    },
    {
      "cell_type": "code",
      "source": [],
      "metadata": {
        "id": "vSp4Mlo6Ron_"
      },
      "execution_count": null,
      "outputs": []
    }
  ]
}