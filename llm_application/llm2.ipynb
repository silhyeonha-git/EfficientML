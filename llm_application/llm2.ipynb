{
  "nbformat": 4,
  "nbformat_minor": 0,
  "metadata": {
    "colab": {
      "provenance": [],
      "gpuType": "T4"
    },
    "kernelspec": {
      "name": "python3",
      "display_name": "Python 3"
    },
    "language_info": {
      "name": "python"
    },
    "accelerator": "GPU"
  },
  "cells": [
    {
      "cell_type": "code",
      "source": [
        "import torch\n",
        "import torch.nn as nn"
      ],
      "metadata": {
        "id": "RdTTmNy6CgKS"
      },
      "execution_count": 1,
      "outputs": []
    },
    {
      "cell_type": "code",
      "execution_count": 2,
      "metadata": {
        "colab": {
          "base_uri": "https://localhost:8080/"
        },
        "id": "8K2wRP5bBXsG",
        "outputId": "1b0bf7ae-1d8a-4279-f933-103f74446805"
      },
      "outputs": [
        {
          "output_type": "stream",
          "name": "stdout",
          "text": [
            "input_text_list:  ['나는', '최근', '파리', '여행을', '다녀왔다']\n"
          ]
        }
      ],
      "source": [
        "input_text = \"나는 최근 파리 여행을 다녀왔다\"\n",
        "input_text_list = input_text.split()\n",
        "print(\"input_text_list: \", input_text_list)"
      ]
    },
    {
      "cell_type": "code",
      "source": [
        "str2idx = {word:idx for idx, word in enumerate(input_text_list)}\n",
        "idx2str = {idx:word for idx, word in enumerate(input_text_list)}\n",
        "print(\"str2idx: \", str2idx)\n",
        "print(\"idx2str: \", idx2str)"
      ],
      "metadata": {
        "colab": {
          "base_uri": "https://localhost:8080/"
        },
        "id": "FOSwiOEdB9kV",
        "outputId": "881fcde6-7c98-4994-b936-a2faef1a7350"
      },
      "execution_count": 3,
      "outputs": [
        {
          "output_type": "stream",
          "name": "stdout",
          "text": [
            "str2idx:  {'나는': 0, '최근': 1, '파리': 2, '여행을': 3, '다녀왔다': 4}\n",
            "idx2str:  {0: '나는', 1: '최근', 2: '파리', 3: '여행을', 4: '다녀왔다'}\n"
          ]
        }
      ]
    },
    {
      "cell_type": "code",
      "source": [
        "input_ids = [str2idx[word] for word in input_text_list]\n",
        "print(\"input_ids: \",input_ids)"
      ],
      "metadata": {
        "colab": {
          "base_uri": "https://localhost:8080/"
        },
        "id": "gkVlk_V0CSPm",
        "outputId": "3a048080-5d70-4312-fe19-2768d869e7a1"
      },
      "execution_count": 4,
      "outputs": [
        {
          "output_type": "stream",
          "name": "stdout",
          "text": [
            "input_ids:  [0, 1, 2, 3, 4]\n"
          ]
        }
      ]
    },
    {
      "cell_type": "code",
      "source": [
        "embedding_dim = 16\n",
        "embedded_layer = nn.Embedding(len(input_ids),embedding_dim)\n",
        "\n",
        "input_embeddings = embedded_layer(torch.tensor(input_ids))\n",
        "input_embeddings = input_embeddings.unsqueeze(0)\n",
        "input_embeddings.shape"
      ],
      "metadata": {
        "colab": {
          "base_uri": "https://localhost:8080/"
        },
        "id": "_z-vJwDNCcmy",
        "outputId": "3b8e08f3-99f7-4675-dac0-5f3e7342cbb2"
      },
      "execution_count": 5,
      "outputs": [
        {
          "output_type": "execute_result",
          "data": {
            "text/plain": [
              "torch.Size([1, 5, 16])"
            ]
          },
          "metadata": {},
          "execution_count": 5
        }
      ]
    },
    {
      "cell_type": "code",
      "source": [
        "max_position = 12\n",
        "embed_layer = nn.Embedding(len(input_ids),embedding_dim)\n",
        "position_embed_layer = nn.Embedding(max_position,embedding_dim)\n",
        "\n",
        "position_ids = torch.arange(len(input_ids), dtype=torch.long).unsqueeze(0)\n",
        "position_ids.shape"
      ],
      "metadata": {
        "colab": {
          "base_uri": "https://localhost:8080/"
        },
        "id": "oJRx6cLcDHT2",
        "outputId": "3b0256d2-5819-4727-a205-a864206ffdf4"
      },
      "execution_count": 6,
      "outputs": [
        {
          "output_type": "execute_result",
          "data": {
            "text/plain": [
              "torch.Size([1, 5])"
            ]
          },
          "metadata": {},
          "execution_count": 6
        }
      ]
    },
    {
      "cell_type": "code",
      "source": [
        "position_encodings = position_embed_layer(position_ids)\n",
        "token_embeddings = embed_layer(torch.tensor(input_ids)).unsqueeze(0)\n",
        "input_embeddings = token_embeddings + position_encodings\n",
        "input_embeddings.shape"
      ],
      "metadata": {
        "colab": {
          "base_uri": "https://localhost:8080/"
        },
        "id": "70Btme1YDvbO",
        "outputId": "7fd92a52-e0e5-42a1-96c5-8d919775ad4f"
      },
      "execution_count": 7,
      "outputs": [
        {
          "output_type": "execute_result",
          "data": {
            "text/plain": [
              "torch.Size([1, 5, 16])"
            ]
          },
          "metadata": {},
          "execution_count": 7
        }
      ]
    },
    {
      "cell_type": "markdown",
      "source": [
        "## **예제 2.4**"
      ],
      "metadata": {
        "id": "MGgDbL4uFSXm"
      }
    },
    {
      "cell_type": "code",
      "source": [
        "head_dim = 16\n",
        "\n",
        "weight_q = nn.Linear(embedding_dim, head_dim)\n",
        "weight_k = nn.Linear(embedding_dim, head_dim)\n",
        "weight_v = nn.Linear(embedding_dim, head_dim)\n",
        "\n",
        "querys = weight_q(input_embeddings)\n",
        "keys = weight_k(input_embeddings)\n",
        "values = weight_v(input_embeddings)\n",
        "print(querys.shape)\n",
        "print(keys.shape)\n",
        "print(values.shape)"
      ],
      "metadata": {
        "colab": {
          "base_uri": "https://localhost:8080/"
        },
        "id": "6vWAbk9TFOKr",
        "outputId": "9d5be744-0645-410f-fc8c-cc92e8ac1f4e"
      },
      "execution_count": 8,
      "outputs": [
        {
          "output_type": "stream",
          "name": "stdout",
          "text": [
            "torch.Size([1, 5, 16])\n",
            "torch.Size([1, 5, 16])\n",
            "torch.Size([1, 5, 16])\n"
          ]
        }
      ]
    },
    {
      "cell_type": "markdown",
      "source": [
        "## **예제 2.5**"
      ],
      "metadata": {
        "id": "MUb7BOQvPQC6"
      }
    },
    {
      "cell_type": "code",
      "source": [
        "from math import sqrt\n",
        "import torch.nn.functional as F\n",
        "\n",
        "def compute_attention(querys, keys, values, is_causal=False):\n",
        "  dim_k = querys.size(-1)\n",
        "  scores = querys @ keys.transpose(-2,-1) / sqrt(dim_k)\n",
        "  weights = F.softmax(scores, dim=-1)\n",
        "  return weights @ values"
      ],
      "metadata": {
        "id": "SAcplUzIFyQL"
      },
      "execution_count": 9,
      "outputs": []
    },
    {
      "cell_type": "markdown",
      "source": [
        "## **예제 2.6**"
      ],
      "metadata": {
        "id": "rd0ZFEkOPXet"
      }
    },
    {
      "cell_type": "code",
      "source": [
        "print(\"원본 입력 형태: \", input_embeddings.shape)\n",
        "\n",
        "after_attention_embeddings = compute_attention(querys, keys,values)\n",
        "\n",
        "print(\"어텐션 적용 후 형태: \", after_attention_embeddings.shape)"
      ],
      "metadata": {
        "colab": {
          "base_uri": "https://localhost:8080/"
        },
        "id": "GKWYpvWxHvH-",
        "outputId": "680cc45e-09ef-4b79-d633-28fc3884f2ac"
      },
      "execution_count": 10,
      "outputs": [
        {
          "output_type": "stream",
          "name": "stdout",
          "text": [
            "원본 입력 형태:  torch.Size([1, 5, 16])\n",
            "어텐션 적용 후 형태:  torch.Size([1, 5, 16])\n"
          ]
        }
      ]
    },
    {
      "cell_type": "markdown",
      "source": [
        "## **예제 2.7**"
      ],
      "metadata": {
        "id": "b5AZpY-ARwwV"
      }
    },
    {
      "cell_type": "code",
      "source": [
        "class AttentionHead(nn.Module):\n",
        "  def __init__(self, token_embed_dim, head_dim, is_causal=False):\n",
        "    super().__init__()\n",
        "    self.is_causal = is_causal\n",
        "    self.weight_q = nn.Linear(token_embed_dim, head_dim)\n",
        "    self.weight_k = nn.Linear(token_embed_dim, head_dim)\n",
        "    self.weight_v = nn.Linear(token_embed_dim, head_dim)\n",
        "\n",
        "  def forward(self, querys, keys, values):\n",
        "    outputs = compute_attention(\n",
        "        self.weight_q(querys),\n",
        "        self.weight_k(keys),\n",
        "        self.weight_v(values),\n",
        "        is_causal=self.is_causal\n",
        "    )"
      ],
      "metadata": {
        "id": "MioZBxwgPxI4"
      },
      "execution_count": 11,
      "outputs": []
    },
    {
      "cell_type": "code",
      "source": [
        "attention_head = AttentionHead(embedding_dim, head_dim)\n",
        "after_attention_embeddings = attention_head(input_embeddings,input_embeddings,input_embeddings)"
      ],
      "metadata": {
        "id": "cV4gCn69SfUb"
      },
      "execution_count": 12,
      "outputs": []
    },
    {
      "cell_type": "markdown",
      "source": [
        "## **예제 2.8**"
      ],
      "metadata": {
        "id": "6_ohbQHqTRAH"
      }
    },
    {
      "cell_type": "code",
      "source": [
        "class MultiHeadAttention(nn.Module):\n",
        "  def __init__(self, token_embed_dim, d_model, n_head, is_causal=False):\n",
        "    super().__init__()\n",
        "    self.n_head = n_head\n",
        "    self.is_causal = is_causal\n",
        "    self.weight_q = nn.Linear(token_embed_dim, head_dim)\n",
        "    self.weight_k = nn.Linear(token_embed_dim, head_dim)\n",
        "    self.weight_v = nn.Linear(token_embed_dim, head_dim)\n",
        "    self.concat_linear = nn.Linear(d_model, d_model)\n",
        "\n",
        "  def forward(self, querys, keys, values):\n",
        "    B, T, C = querys.size()\n",
        "    querys = self.weight_q(querys).view(B,T,self.n_head,C//n_head).transpose(1,2)\n",
        "    keys = self.weight_k(keys).view(B,T,self.n_head,C//n_head).transpose(1,2)\n",
        "    values = self.weight_v(values).view(B,T,self.n_head,C//n_head).transpose(1,2)\n",
        "    attention = compute_attention(querys, keys, values, self.is_causal)\n",
        "    output = attention.transpose(1,2).contiguous().view(B,T,C)\n",
        "    output = self.concat_linear(output)\n",
        "    return output\n",
        "\n"
      ],
      "metadata": {
        "id": "Z3u-KGn8Sybr"
      },
      "execution_count": 13,
      "outputs": []
    },
    {
      "cell_type": "code",
      "source": [
        "n_head = 4\n",
        "mh_attention = MultiHeadAttention(embedding_dim, embedding_dim, n_head)\n",
        "after_attention_embeddings = mh_attention(input_embeddings, input_embeddings, input_embeddings)\n",
        "after_attention_embeddings.shape"
      ],
      "metadata": {
        "colab": {
          "base_uri": "https://localhost:8080/"
        },
        "id": "UguMno86RDdA",
        "outputId": "69acfbf1-db85-4ecb-f41b-9e1e4b407168"
      },
      "execution_count": 14,
      "outputs": [
        {
          "output_type": "execute_result",
          "data": {
            "text/plain": [
              "torch.Size([1, 5, 16])"
            ]
          },
          "metadata": {},
          "execution_count": 14
        }
      ]
    },
    {
      "cell_type": "markdown",
      "source": [
        "## **예제 2.9**"
      ],
      "metadata": {
        "id": "k7yHLLHUTi-K"
      }
    },
    {
      "cell_type": "code",
      "source": [
        "norm = nn.LayerNorm(embedding_dim)\n",
        "norm_x = norm(input_embeddings)\n",
        "norm_x.shape"
      ],
      "metadata": {
        "colab": {
          "base_uri": "https://localhost:8080/"
        },
        "id": "K0ihBx7VThr9",
        "outputId": "483ce4a5-e9e3-479a-af3a-c5d14a78b1ab"
      },
      "execution_count": 15,
      "outputs": [
        {
          "output_type": "execute_result",
          "data": {
            "text/plain": [
              "torch.Size([1, 5, 16])"
            ]
          },
          "metadata": {},
          "execution_count": 15
        }
      ]
    },
    {
      "cell_type": "code",
      "source": [
        "norm_x.mean(dim=-1).data, norm_x.std(dim=-1).data"
      ],
      "metadata": {
        "colab": {
          "base_uri": "https://localhost:8080/"
        },
        "id": "n33q4-VyT4V7",
        "outputId": "7727dfc3-ff90-4f66-d191-8ef812468bd6"
      },
      "execution_count": 16,
      "outputs": [
        {
          "output_type": "execute_result",
          "data": {
            "text/plain": [
              "(tensor([[-1.4901e-08, -5.5879e-08, -2.9802e-08, -1.4901e-08, -1.1176e-08]]),\n",
              " tensor([[1.0328, 1.0328, 1.0328, 1.0328, 1.0328]]))"
            ]
          },
          "metadata": {},
          "execution_count": 16
        }
      ]
    },
    {
      "cell_type": "markdown",
      "source": [
        "## **예제 2.10**"
      ],
      "metadata": {
        "id": "kwzZcSfyU2B2"
      }
    },
    {
      "cell_type": "code",
      "source": [
        "class PreLayerNormFeedForward(nn.Module):\n",
        "  def __init__(self, d_model, dim_feedforward, dropout):\n",
        "    super().__init__()\n",
        "    self.linear1 = nn.Linear(d_model, dim_feedforward)\n",
        "    self.linear2 = nn.Linear(dim_feedforward, d_model)\n",
        "    self.dropout1 = nn.Dropout(dropout)\n",
        "    self.dropout2 = nn.Dropout(dropout)\n",
        "    self.activation = nn.GELU()\n",
        "    self.norm = nn.LayerNorm(d_model)\n",
        "  def forward(self, x):\n",
        "    x = self.norm(x)\n",
        "    x = x + self.linear2(self.dropout1(self.activation(self.linear1(x))))\n",
        "    x = self.dropout2(x)\n",
        "    return x"
      ],
      "metadata": {
        "id": "n08gUYYJUTZ8"
      },
      "execution_count": 17,
      "outputs": []
    },
    {
      "cell_type": "markdown",
      "source": [
        "## **예제 2.11**"
      ],
      "metadata": {
        "id": "KX2-ke6XZeSV"
      }
    },
    {
      "cell_type": "code",
      "source": [],
      "metadata": {
        "id": "Cf9tcBWKVk08"
      },
      "execution_count": 17,
      "outputs": []
    }
  ]
}