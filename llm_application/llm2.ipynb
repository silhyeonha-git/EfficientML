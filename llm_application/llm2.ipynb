{
  "nbformat": 4,
  "nbformat_minor": 0,
  "metadata": {
    "colab": {
      "provenance": [],
      "gpuType": "T4"
    },
    "kernelspec": {
      "name": "python3",
      "display_name": "Python 3"
    },
    "language_info": {
      "name": "python"
    },
    "accelerator": "GPU"
  },
  "cells": [
    {
      "cell_type": "code",
      "source": [
        "import torch\n",
        "import torch.nn as nn"
      ],
      "metadata": {
        "id": "RdTTmNy6CgKS"
      },
      "execution_count": 6,
      "outputs": []
    },
    {
      "cell_type": "code",
      "execution_count": 1,
      "metadata": {
        "colab": {
          "base_uri": "https://localhost:8080/"
        },
        "id": "8K2wRP5bBXsG",
        "outputId": "ce9e1fc3-32a3-44dd-bc63-2d334a8a6eac"
      },
      "outputs": [
        {
          "output_type": "stream",
          "name": "stdout",
          "text": [
            "input_text_list:  ['나는', '최근', '파리', '여행을', '다녀왔다']\n"
          ]
        }
      ],
      "source": [
        "input_text = \"나는 최근 파리 여행을 다녀왔다\"\n",
        "input_text_list = input_text.split()\n",
        "print(\"input_text_list: \", input_text_list)"
      ]
    },
    {
      "cell_type": "code",
      "source": [
        "str2idx = {word:idx for idx, word in enumerate(input_text_list)}\n",
        "idx2str = {idx:word for idx, word in enumerate(input_text_list)}\n",
        "print(\"str2idx: \", str2idx)\n",
        "print(\"idx2str: \", idx2str)"
      ],
      "metadata": {
        "colab": {
          "base_uri": "https://localhost:8080/"
        },
        "id": "FOSwiOEdB9kV",
        "outputId": "f7d5f51b-a00a-497c-85f6-50c639a75960"
      },
      "execution_count": 2,
      "outputs": [
        {
          "output_type": "stream",
          "name": "stdout",
          "text": [
            "str2idx:  {'나는': 0, '최근': 1, '파리': 2, '여행을': 3, '다녀왔다': 4}\n",
            "idx2str:  {0: '나는', 1: '최근', 2: '파리', 3: '여행을', 4: '다녀왔다'}\n"
          ]
        }
      ]
    },
    {
      "cell_type": "code",
      "source": [
        "input_ids = [str2idx[word] for word in input_text_list]\n",
        "print(\"input_ids: \",input_ids)"
      ],
      "metadata": {
        "colab": {
          "base_uri": "https://localhost:8080/"
        },
        "id": "gkVlk_V0CSPm",
        "outputId": "9f31f4fd-c1fd-4b4d-a66e-8d96e60e735f"
      },
      "execution_count": 3,
      "outputs": [
        {
          "output_type": "stream",
          "name": "stdout",
          "text": [
            "input_ids:  [0, 1, 2, 3, 4]\n"
          ]
        }
      ]
    },
    {
      "cell_type": "code",
      "source": [
        "embedding_dim = 16\n",
        "embedded_layer = nn.Embedding(len(input_ids),embedding_dim)\n",
        "\n",
        "input_embeddings = embedded_layer(torch.tensor(input_ids))\n",
        "input_embeddings = input_embeddings.unsqueeze(0)\n",
        "input_embeddings.shape"
      ],
      "metadata": {
        "colab": {
          "base_uri": "https://localhost:8080/"
        },
        "id": "_z-vJwDNCcmy",
        "outputId": "77b06fd6-8f24-4076-e428-dbbe0cca0a12"
      },
      "execution_count": 7,
      "outputs": [
        {
          "output_type": "execute_result",
          "data": {
            "text/plain": [
              "torch.Size([1, 5, 16])"
            ]
          },
          "metadata": {},
          "execution_count": 7
        }
      ]
    },
    {
      "cell_type": "code",
      "source": [
        "max_position = 12\n",
        "embed_layer = nn.Embedding(len(input_ids),embedding_dim)\n",
        "position_embed_layer = nn.Embedding(max_position,embedding_dim)\n",
        "\n",
        "position_ids = torch.arange(len(input_ids), dtype=torch.long).unsqueeze(0)\n",
        "position_ids.shape"
      ],
      "metadata": {
        "colab": {
          "base_uri": "https://localhost:8080/"
        },
        "id": "oJRx6cLcDHT2",
        "outputId": "72d42dcd-b35e-4279-bee0-774f416e68fe"
      },
      "execution_count": 9,
      "outputs": [
        {
          "output_type": "execute_result",
          "data": {
            "text/plain": [
              "torch.Size([1, 5])"
            ]
          },
          "metadata": {},
          "execution_count": 9
        }
      ]
    },
    {
      "cell_type": "code",
      "source": [
        "position_encodings = position_embed_layer(position_ids)\n",
        "token_embeddings = embed_layer(torch.tensor(input_ids)).unsqueeze(0)\n",
        "input_embeddings = token_embeddings + position_encodings\n",
        "input_embeddings.shape"
      ],
      "metadata": {
        "colab": {
          "base_uri": "https://localhost:8080/"
        },
        "id": "70Btme1YDvbO",
        "outputId": "da9180a8-9e1c-45e4-dc1f-a56ef1d40084"
      },
      "execution_count": 10,
      "outputs": [
        {
          "output_type": "execute_result",
          "data": {
            "text/plain": [
              "torch.Size([1, 5, 16])"
            ]
          },
          "metadata": {},
          "execution_count": 10
        }
      ]
    },
    {
      "cell_type": "markdown",
      "source": [
        "## **예제 2.4**"
      ],
      "metadata": {
        "id": "MGgDbL4uFSXm"
      }
    },
    {
      "cell_type": "code",
      "source": [
        "head_dim = 16\n",
        "\n",
        "weight_q = nn.Linear(embedding_dim, head_dim)\n",
        "weight_k = nn.Linear(embedding_dim, head_dim)\n",
        "weight_v = nn.Linear(embedding_dim, head_dim)\n",
        "\n",
        "querys = weight_q(input_embeddings)\n",
        "keys = weight_k(input_embeddings)\n",
        "values = weight_v(input_embeddings)\n",
        "print(querys.shape)\n",
        "print(keys.shape)\n",
        "print(values.shape)"
      ],
      "metadata": {
        "colab": {
          "base_uri": "https://localhost:8080/"
        },
        "id": "6vWAbk9TFOKr",
        "outputId": "62a31d0a-f2ff-4e23-cd3a-a5d8961eb028"
      },
      "execution_count": 25,
      "outputs": [
        {
          "output_type": "stream",
          "name": "stdout",
          "text": [
            "torch.Size([1, 5, 16])\n",
            "torch.Size([1, 5, 16])\n",
            "torch.Size([1, 5, 16])\n"
          ]
        }
      ]
    },
    {
      "cell_type": "markdown",
      "source": [
        "## **예제 2.5**"
      ],
      "metadata": {
        "id": "MUb7BOQvPQC6"
      }
    },
    {
      "cell_type": "code",
      "source": [
        "from math import sqrt\n",
        "import torch.nn.functional as F\n",
        "\n",
        "def compute_attention(querys, keys, values, is_causal=False):\n",
        "  dim_k = querys.size(-1)\n",
        "  scores = querys @ keys.transpose(-2,-1) / sqrt(dim_k)\n",
        "  weights = F.softmax(scores, dim=-1)\n",
        "  return weights @ values"
      ],
      "metadata": {
        "id": "SAcplUzIFyQL"
      },
      "execution_count": 26,
      "outputs": []
    },
    {
      "cell_type": "markdown",
      "source": [
        "## **예제 2.6**"
      ],
      "metadata": {
        "id": "rd0ZFEkOPXet"
      }
    },
    {
      "cell_type": "code",
      "source": [
        "print(\"원본 입력 형태: \", input_embeddings.shape)\n",
        "\n",
        "after_attention_embeddings = compute_attention(querys, keys,values)\n",
        "\n",
        "print(\"어텐션 적용 후 형태: \", after_attention_embeddings.shape)"
      ],
      "metadata": {
        "colab": {
          "base_uri": "https://localhost:8080/"
        },
        "id": "GKWYpvWxHvH-",
        "outputId": "717b5eab-8b0b-43a2-97ae-90257c8541c3"
      },
      "execution_count": 27,
      "outputs": [
        {
          "output_type": "stream",
          "name": "stdout",
          "text": [
            "원본 입력 형태:  torch.Size([1, 5, 16])\n",
            "어텐션 적용 후 형태:  torch.Size([1, 5, 16])\n"
          ]
        }
      ]
    },
    {
      "cell_type": "markdown",
      "source": [
        "## **예제 2.7**"
      ],
      "metadata": {
        "id": "b5AZpY-ARwwV"
      }
    },
    {
      "cell_type": "code",
      "source": [
        "class AttentionHead(nn.Module):\n",
        "  def __init__(self, token_embed_dim, head_dim, is_causal=False):\n",
        "    super().__init__()\n",
        "    self.is_causal = is_causal\n",
        "    self.weight_q = nn.Linear(token_embed_dim, head_dim)\n",
        "    self.weight_k = nn.Linear(token_embed_dim, head_dim)\n",
        "    self.weight_v = nn.Linear(token_embed_dim, head_dim)\n",
        "\n",
        "  def forward(self, querys, keys, values):\n",
        "    outputs = compute_attention(\n",
        "        self.weight_q(querys),\n",
        "        self.weight_k(keys),\n",
        "        self.weight_v(values),\n",
        "        is_causal=self.is_causal\n",
        "    )"
      ],
      "metadata": {
        "id": "MioZBxwgPxI4"
      },
      "execution_count": 28,
      "outputs": []
    },
    {
      "cell_type": "code",
      "source": [
        "attention_head = AttentionHead(embedding_dim, head_dim)\n",
        "after_attention_embeddings = attention_head(input_embeddings,input_embeddings,input_embeddings)"
      ],
      "metadata": {
        "id": "cV4gCn69SfUb"
      },
      "execution_count": 29,
      "outputs": []
    },
    {
      "cell_type": "markdown",
      "source": [
        "## **예제 2.8**"
      ],
      "metadata": {
        "id": "6_ohbQHqTRAH"
      }
    },
    {
      "cell_type": "code",
      "source": [
        "class MultiHeadAttention(nn.Module):\n",
        "  def __init__(self, token_embed_dim, d_model, n_head, is_causal=False):\n",
        "    super().__init__()\n",
        "    self.n_head = n_head\n",
        "    self.is_causal = is_causal\n",
        "    self.weight_q = nn.Linear(token_embed_dim, head_dim)\n",
        "    self.weight_k = nn.Linear(token_embed_dim, head_dim)\n",
        "    self.weight_v = nn.Linear(token_embed_dim, head_dim)\n",
        "    self.concat_linear = nn.Linear(d_model, d_model)\n",
        "\n",
        "  def forward(self, querys, keys, values):\n",
        "    b, T, C = querys.size()\n",
        "    # querys =\n"
      ],
      "metadata": {
        "id": "Z3u-KGn8Sybr"
      },
      "execution_count": null,
      "outputs": []
    }
  ]
}